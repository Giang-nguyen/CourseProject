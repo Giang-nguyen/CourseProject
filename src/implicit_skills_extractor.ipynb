{
 "cells": [
  {
   "cell_type": "code",
   "execution_count": 13,
   "metadata": {},
   "outputs": [],
   "source": [
    "import implicit_skill_finder\n",
    "import utils\n",
    "import pandas as pd\n",
    "import numpy as np\n",
    "from joblib import dump, load"
   ]
  },
  {
   "cell_type": "markdown",
   "metadata": {},
   "source": [
    "Load user input from a text file.\n",
    "Please put job's description in the file where each description fits in one line."
   ]
  },
  {
   "cell_type": "code",
   "execution_count": 14,
   "metadata": {},
   "outputs": [],
   "source": [
    "with open('usertest.txt', encoding='utf-8') as f:\n",
    "    texts = [line for line in f]"
   ]
  },
  {
   "cell_type": "markdown",
   "metadata": {},
   "source": [
    "Train LDA model.\n",
    "Each LDA model is built to fit the train dataset based on different number of topics.\n",
    "Grid search algorithm is then used to find the best model."
   ]
  },
  {
   "cell_type": "code",
   "execution_count": 15,
   "metadata": {},
   "outputs": [],
   "source": [
    "implicit_skill_finder.train_model()"
   ]
  },
  {
   "cell_type": "markdown",
   "metadata": {},
   "source": [
    "Find top 20 of the most similar job's descriptions based on topic distribution similarity.\n",
    "For each job's description, top 5 related skills are retrieved based on skill's description similarity.\n",
    "The skills are then combined and remove duplication."
   ]
  },
  {
   "cell_type": "code",
   "execution_count": 16,
   "metadata": {},
   "outputs": [
    {
     "name": "stdout",
     "output_type": "stream",
     "text": [
      "Processing job description 0 ...\n",
      "Finding similar text ...\n",
      "Finding related skills ...\n",
      "5 implicit skills found.\n",
      "9 implicit skills found.\n",
      "12 implicit skills found.\n",
      "13 implicit skills found.\n",
      "13 implicit skills found.\n",
      "13 implicit skills found.\n",
      "13 implicit skills found.\n",
      "15 implicit skills found.\n",
      "20 implicit skills found.\n",
      "22 implicit skills found.\n",
      "23 implicit skills found.\n",
      "24 implicit skills found.\n",
      "25 implicit skills found.\n",
      "26 implicit skills found.\n",
      "26 implicit skills found.\n",
      "27 implicit skills found.\n",
      "29 implicit skills found.\n",
      "29 implicit skills found.\n",
      "29 implicit skills found.\n",
      "29 implicit skills found.\n",
      "Potential implicit skills: Enterprise application integration software, Service Orientation, Graphics card driver software, Expert system software, Filesystem software, Administration software, Data base management system software, Portal server software, Network operating system enhancement software, Programming, Computer aided design CAD software, Transaction security and virus protection software, Printer driver software, Backup or archival software, Process mapping and design software, WAN switching software and firmware, Bridge software, Pattern design software, Charting software, Data compression software, Computer aided manufacturing CAM software, Learning Strategies, Configuration management software, Analytical or scientific software, Transaction server software, Map creation software, Network monitoring software, Operating system software, Helpdesk or call center software\n",
      "Processing job description 1 ...\n",
      "Finding similar text ...\n",
      "Finding related skills ...\n",
      "5 implicit skills found.\n",
      "5 implicit skills found.\n",
      "5 implicit skills found.\n",
      "5 implicit skills found.\n",
      "5 implicit skills found.\n",
      "6 implicit skills found.\n",
      "6 implicit skills found.\n",
      "6 implicit skills found.\n",
      "6 implicit skills found.\n",
      "6 implicit skills found.\n",
      "6 implicit skills found.\n",
      "6 implicit skills found.\n",
      "9 implicit skills found.\n",
      "10 implicit skills found.\n",
      "10 implicit skills found.\n",
      "11 implicit skills found.\n",
      "11 implicit skills found.\n",
      "11 implicit skills found.\n",
      "12 implicit skills found.\n",
      "13 implicit skills found.\n",
      "Potential implicit skills: Compliance software, Quality Control Analysis, Operation and Control, Manufacturing execution system MES software, Management of Material Resources, Critical Thinking, Troubleshooting, Inventory management software, Equipment Selection, Office suite software, Accounting software, Materials requirements planning logistics and supply chain software, Repairing\n",
      "Processing job description 2 ...\n",
      "Finding similar text ...\n",
      "Finding related skills ...\n",
      "5 implicit skills found.\n",
      "10 implicit skills found.\n",
      "12 implicit skills found.\n",
      "12 implicit skills found.\n",
      "12 implicit skills found.\n",
      "12 implicit skills found.\n",
      "12 implicit skills found.\n",
      "12 implicit skills found.\n",
      "12 implicit skills found.\n",
      "12 implicit skills found.\n",
      "12 implicit skills found.\n",
      "12 implicit skills found.\n",
      "12 implicit skills found.\n",
      "12 implicit skills found.\n",
      "12 implicit skills found.\n",
      "12 implicit skills found.\n",
      "12 implicit skills found.\n",
      "12 implicit skills found.\n",
      "12 implicit skills found.\n",
      "12 implicit skills found.\n",
      "Potential implicit skills: Quality Control Analysis, Operation and Control, Compliance software, Manufacturing execution system MES software, Management of Material Resources, Management of Financial Resources, Troubleshooting, Equipment Selection, Instructing, Materials requirements planning logistics and supply chain software, Monitoring, Repairing\n"
     ]
    }
   ],
   "source": [
    "implicit_skills = set()\n",
    "for i in range(len(texts)):\n",
    "    print(f'Processing job description {i} ...')\n",
    "    print(f'Finding similar text ...')\n",
    "    _, similar_texts = implicit_skill_finder.find_similar_docs(texts[i], 20)\n",
    "    print(f'Finding related skills ...')\n",
    "    for text in similar_texts:\n",
    "        implicit_skills.update(implicit_skill_finder.find_related_skills(text, 5))\n",
    "    print(f'{len(implicit_skills)} implicit skills found.')\n",
    "    print(f'Potential implicit skills: ' + ', '.join(implicit_skills))\n",
    "    implicit_skills.clear()"
   ]
  }
 ],
 "metadata": {
  "kernelspec": {
   "display_name": "Python 3 (ipykernel)",
   "language": "python",
   "name": "python3"
  },
  "language_info": {
   "codemirror_mode": {
    "name": "ipython",
    "version": 3
   },
   "file_extension": ".py",
   "mimetype": "text/x-python",
   "name": "python",
   "nbconvert_exporter": "python",
   "pygments_lexer": "ipython3",
   "version": "3.7.9"
  }
 },
 "nbformat": 4,
 "nbformat_minor": 2
}
