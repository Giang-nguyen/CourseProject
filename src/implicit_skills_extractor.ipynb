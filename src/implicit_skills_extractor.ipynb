{
 "cells": [
  {
   "cell_type": "code",
   "execution_count": 18,
   "metadata": {},
   "outputs": [],
   "source": [
    "import implicit_skill_finder\n",
    "import utils\n",
    "import pandas as pd\n",
    "import numpy as np\n",
    "from joblib import dump, load"
   ]
  },
  {
   "cell_type": "code",
   "execution_count": 19,
   "metadata": {},
   "outputs": [],
   "source": [
    "def show_topics(vectorizer, lda_model, n_words=20):\n",
    "    keywords = np.array(vectorizer.get_feature_names())\n",
    "    topic_keywords = []\n",
    "    for topic_weights in lda_model.components_:\n",
    "        top_keyword_locs = (-topic_weights).argsort()[:n_words]\n",
    "        topic_keywords.append(keywords.take(top_keyword_locs))\n",
    "    return topic_keywords"
   ]
  },
  {
   "cell_type": "code",
   "execution_count": 20,
   "metadata": {},
   "outputs": [
    {
     "name": "stdout",
     "output_type": "stream",
     "text": [
      "<class 'str'>\n",
      "<class 'str'>\n",
      "<class 'str'>\n"
     ]
    }
   ],
   "source": [
    "# Please change the input here\n",
    "with open('usertest.txt', encoding='utf-8') as f:\n",
    "    texts = [line for line in f]\n",
    "for x in texts:\n",
    "    print(type(x))"
   ]
  },
  {
   "cell_type": "markdown",
   "metadata": {},
   "source": [
    "Find top 15 words of each topics. These popular words is selected as candidate for choosing skill list."
   ]
  },
  {
   "cell_type": "code",
   "execution_count": 21,
   "metadata": {},
   "outputs": [],
   "source": [
    "best_model = load(utils.MODEL_DIR)\n",
    "tf_vectorizer = load(utils.VECTOR_DIR)\n",
    "lda_output = load(utils.OUTPUT_DIR)\n",
    "topic_keywords = show_topics(vectorizer=tf_vectorizer, lda_model=best_model, n_words=15)        \n",
    "df_topic_keywords = pd.DataFrame(topic_keywords)\n",
    "df_topic_keywords.columns = ['Word '+str(i) for i in range(df_topic_keywords.shape[1])]\n",
    "df_topic_keywords.index = ['Topic '+str(i) for i in range(df_topic_keywords.shape[0])]"
   ]
  },
  {
   "cell_type": "code",
   "execution_count": 22,
   "metadata": {},
   "outputs": [],
   "source": [
    "df_document_topic = pd.DataFrame(np.round(lda_output, 2))\n",
    "topic_pos = (-df_document_topic.values).argsort()"
   ]
  },
  {
   "cell_type": "code",
   "execution_count": 23,
   "metadata": {},
   "outputs": [
    {
     "name": "stdout",
     "output_type": "stream",
     "text": [
      "Processing text 0\n",
      "Potential implicit skills are support, product, digital, market, process, engineer, marketing, team, application, design, service, sale, partner, drive, pron, business, requirement, development, ensure, engineering, management, platform, technology, build, job, code, work, customer, project, software, campaign, experience, strategy, skill\n",
      "Processing text 1\n",
      "Potential implicit skills are support, product, digital, market, engineer, client, marketing, team, application, people, design, pron pron, service, sale, partner, provide, drive, pron, business, development, engineering, platform, opportunity, technology, build, code, work, customer, software, campaign, experience, strategy, skill\n",
      "Processing text 2\n",
      "Potential implicit skills are support, product, digital, market, engineer, client, marketing, team, application, people, design, pron pron, service, sale, partner, provide, drive, pron, business, development, engineering, platform, opportunity, technology, build, code, work, customer, software, campaign, experience, strategy, skill\n"
     ]
    }
   ],
   "source": [
    "for t in range(len(texts)):\n",
    "    print(f'Processing text {t}')\n",
    "    doc_ids, docs = implicit_skill_finder.find_similar_texts([texts[t]])\n",
    "    implicit_skills = set()\n",
    "    for i in doc_ids:\n",
    "        for j in range(len(df_topic_keywords)):\n",
    "            if topic_pos[i, j] > 0.3:\n",
    "                implicit_skills.update(df_topic_keywords.iloc[j, :].apply(lambda x: x.strip()).to_list())\n",
    "    print('Potential implicit skills are ' + ', '.join(implicit_skills))"
   ]
  }
 ],
 "metadata": {
  "kernelspec": {
   "display_name": "Python 3 (ipykernel)",
   "language": "python",
   "name": "python3"
  },
  "language_info": {
   "codemirror_mode": {
    "name": "ipython",
    "version": 3
   },
   "file_extension": ".py",
   "mimetype": "text/x-python",
   "name": "python",
   "nbconvert_exporter": "python",
   "pygments_lexer": "ipython3",
   "version": "3.7.9"
  }
 },
 "nbformat": 4,
 "nbformat_minor": 2
}
