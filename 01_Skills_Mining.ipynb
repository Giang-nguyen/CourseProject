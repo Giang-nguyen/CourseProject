{
  "nbformat": 4,
  "nbformat_minor": 0,
  "metadata": {
    "colab": {
      "name": "01 Skills Mining.ipynb",
      "provenance": [],
      "collapsed_sections": [],
      "authorship_tag": "ABX9TyPYOcSdmZRjGOVcMAjupKg2",
      "include_colab_link": true
    },
    "kernelspec": {
      "name": "python3",
      "display_name": "Python 3"
    },
    "language_info": {
      "name": "python"
    }
  },
  "cells": [
    {
      "cell_type": "markdown",
      "metadata": {
        "id": "view-in-github",
        "colab_type": "text"
      },
      "source": [
        "<a href=\"https://colab.research.google.com/github/giangntgg/CourseProject/blob/main/01_Skills_Mining.ipynb\" target=\"_parent\"><img src=\"https://colab.research.google.com/assets/colab-badge.svg\" alt=\"Open In Colab\"/></a>"
      ]
    },
    {
      "cell_type": "code",
      "metadata": {
        "colab": {
          "base_uri": "https://localhost:8080/"
        },
        "id": "ovQaKf48hS8d",
        "outputId": "18abb5d9-70b1-4dea-df21-d8ff498467a1"
      },
      "source": [
        "!pip install wikipedia-api"
      ],
      "execution_count": null,
      "outputs": [
        {
          "output_type": "stream",
          "name": "stdout",
          "text": [
            "Collecting wikipedia-api\n",
            "  Downloading Wikipedia-API-0.5.4.tar.gz (18 kB)\n",
            "Requirement already satisfied: requests in /usr/local/lib/python3.7/dist-packages (from wikipedia-api) (2.23.0)\n",
            "Requirement already satisfied: urllib3!=1.25.0,!=1.25.1,<1.26,>=1.21.1 in /usr/local/lib/python3.7/dist-packages (from requests->wikipedia-api) (1.24.3)\n",
            "Requirement already satisfied: certifi>=2017.4.17 in /usr/local/lib/python3.7/dist-packages (from requests->wikipedia-api) (2021.10.8)\n",
            "Requirement already satisfied: idna<3,>=2.5 in /usr/local/lib/python3.7/dist-packages (from requests->wikipedia-api) (2.10)\n",
            "Requirement already satisfied: chardet<4,>=3.0.2 in /usr/local/lib/python3.7/dist-packages (from requests->wikipedia-api) (3.0.4)\n",
            "Building wheels for collected packages: wikipedia-api\n",
            "  Building wheel for wikipedia-api (setup.py) ... \u001b[?25l\u001b[?25hdone\n",
            "  Created wheel for wikipedia-api: filename=Wikipedia_API-0.5.4-py3-none-any.whl size=13475 sha256=e36665e397b6a16a814b28333b3da0081f82a8c36f64e9c0a1565f8a6c2efdd8\n",
            "  Stored in directory: /root/.cache/pip/wheels/d3/24/56/58ba93cf78be162451144e7a9889603f437976ef1ae7013d04\n",
            "Successfully built wikipedia-api\n",
            "Installing collected packages: wikipedia-api\n",
            "Successfully installed wikipedia-api-0.5.4\n"
          ]
        }
      ]
    },
    {
      "cell_type": "code",
      "metadata": {
        "colab": {
          "base_uri": "https://localhost:8080/"
        },
        "id": "CwjNR6TVm3GP",
        "outputId": "dbd1a7a7-1a6b-4a24-a0eb-e2b5e7e6e07d"
      },
      "source": [
        "!pip install wikipedia"
      ],
      "execution_count": null,
      "outputs": [
        {
          "output_type": "stream",
          "name": "stdout",
          "text": [
            "Collecting wikipedia\n",
            "  Downloading wikipedia-1.4.0.tar.gz (27 kB)\n",
            "Requirement already satisfied: beautifulsoup4 in /usr/local/lib/python3.7/dist-packages (from wikipedia) (4.6.3)\n",
            "Requirement already satisfied: requests<3.0.0,>=2.0.0 in /usr/local/lib/python3.7/dist-packages (from wikipedia) (2.23.0)\n",
            "Requirement already satisfied: idna<3,>=2.5 in /usr/local/lib/python3.7/dist-packages (from requests<3.0.0,>=2.0.0->wikipedia) (2.10)\n",
            "Requirement already satisfied: urllib3!=1.25.0,!=1.25.1,<1.26,>=1.21.1 in /usr/local/lib/python3.7/dist-packages (from requests<3.0.0,>=2.0.0->wikipedia) (1.24.3)\n",
            "Requirement already satisfied: chardet<4,>=3.0.2 in /usr/local/lib/python3.7/dist-packages (from requests<3.0.0,>=2.0.0->wikipedia) (3.0.4)\n",
            "Requirement already satisfied: certifi>=2017.4.17 in /usr/local/lib/python3.7/dist-packages (from requests<3.0.0,>=2.0.0->wikipedia) (2021.10.8)\n",
            "Building wheels for collected packages: wikipedia\n",
            "  Building wheel for wikipedia (setup.py) ... \u001b[?25l\u001b[?25hdone\n",
            "  Created wheel for wikipedia: filename=wikipedia-1.4.0-py3-none-any.whl size=11696 sha256=8115333190f53654796e5f04d09104dfe1db59f4414c39adf6ec3059a53a541b\n",
            "  Stored in directory: /root/.cache/pip/wheels/15/93/6d/5b2c68b8a64c7a7a04947b4ed6d89fb557dcc6bc27d1d7f3ba\n",
            "Successfully built wikipedia\n",
            "Installing collected packages: wikipedia\n",
            "Successfully installed wikipedia-1.4.0\n"
          ]
        }
      ]
    },
    {
      "cell_type": "code",
      "metadata": {
        "id": "woC9cRfRhXvw"
      },
      "source": [
        "import wikipediaapi\n",
        "import wikipedia\n",
        "import pandas as pd"
      ],
      "execution_count": null,
      "outputs": []
    },
    {
      "cell_type": "markdown",
      "metadata": {
        "id": "kS0r3FSRQwJU"
      },
      "source": [
        "# Read in two O-Net files: Skills.xlsx and Technology Skills.xlsx"
      ]
    },
    {
      "cell_type": "code",
      "metadata": {
        "id": "BKf5JdvzMUlM"
      },
      "source": [
        "df1 = pd.read_excel('Skills.xlsx', sheet_name= 'Skills')\n",
        "df1 = df1[['Element Name']].drop_duplicates()\n",
        "df1 = df1.rename(columns = {'Element Name': 'jobSkill'})\n",
        "\n",
        "df2 = pd.read_excel('Technology Skills.xlsx', sheet_name= 'Technology Skills')\n",
        "df2 = df2[['Commodity Title', 'Example']].drop_duplicates()\n",
        "df2['Example'] = df2.groupby('Commodity Title')['Example'].transform(lambda x: ', '.join(x))\n",
        "df2 = df2.rename(columns = {'Commodity Title': 'jobSkill'})\n",
        "\n",
        "df = pd.concat([df1, df2])\n",
        "df['Example'] = df['Example'].fillna('')\n",
        "\n",
        "df = df.drop_duplicates()"
      ],
      "execution_count": null,
      "outputs": []
    },
    {
      "cell_type": "markdown",
      "metadata": {
        "id": "m8zpf7-YQ33m"
      },
      "source": [
        "# Mine Wikipedia Definition of the Skills"
      ]
    },
    {
      "cell_type": "code",
      "metadata": {
        "colab": {
          "base_uri": "https://localhost:8080/",
          "height": 644
        },
        "id": "gl-hUFBLmjPS",
        "outputId": "9a7afb2c-e2ca-488a-c5c1-d80372629a6d"
      },
      "source": [
        "wiki_wiki = wikipediaapi.Wikipedia('en')\n",
        "\n",
        "df['title'] = df['jobSkill'].apply(lambda x: wiki_wiki.page(wikipedia.search(x)[0]).summary)\n",
        "df['title'] = df['title'] + df['Example']\n",
        "df = df[['title', 'jobSkill']]\n",
        "df['source'] = 'skillDescription'\n",
        "df"
      ],
      "execution_count": null,
      "outputs": [
        {
          "output_type": "stream",
          "name": "stderr",
          "text": [
            "/usr/local/lib/python3.7/dist-packages/ipykernel_launcher.py:3: SettingWithCopyWarning: \n",
            "A value is trying to be set on a copy of a slice from a DataFrame.\n",
            "Try using .loc[row_indexer,col_indexer] = value instead\n",
            "\n",
            "See the caveats in the documentation: https://pandas.pydata.org/pandas-docs/stable/user_guide/indexing.html#returning-a-view-versus-a-copy\n",
            "  This is separate from the ipykernel package so we can avoid doing imports until\n",
            "/usr/local/lib/python3.7/dist-packages/ipykernel_launcher.py:4: SettingWithCopyWarning: \n",
            "A value is trying to be set on a copy of a slice from a DataFrame.\n",
            "Try using .loc[row_indexer,col_indexer] = value instead\n",
            "\n",
            "See the caveats in the documentation: https://pandas.pydata.org/pandas-docs/stable/user_guide/indexing.html#returning-a-view-versus-a-copy\n",
            "  after removing the cwd from sys.path.\n"
          ]
        },
        {
          "output_type": "execute_result",
          "data": {
            "text/html": [
              "<div>\n",
              "<style scoped>\n",
              "    .dataframe tbody tr th:only-of-type {\n",
              "        vertical-align: middle;\n",
              "    }\n",
              "\n",
              "    .dataframe tbody tr th {\n",
              "        vertical-align: top;\n",
              "    }\n",
              "\n",
              "    .dataframe thead th {\n",
              "        text-align: right;\n",
              "    }\n",
              "</style>\n",
              "<table border=\"1\" class=\"dataframe\">\n",
              "  <thead>\n",
              "    <tr style=\"text-align: right;\">\n",
              "      <th></th>\n",
              "      <th>title</th>\n",
              "      <th>jobSkill</th>\n",
              "      <th>source</th>\n",
              "    </tr>\n",
              "  </thead>\n",
              "  <tbody>\n",
              "    <tr>\n",
              "      <th>0</th>\n",
              "      <td>Reading comprehension is the ability to proces...</td>\n",
              "      <td>Reading Comprehension</td>\n",
              "      <td>skillDescription</td>\n",
              "    </tr>\n",
              "    <tr>\n",
              "      <th>2</th>\n",
              "      <td>Active listening is the practice of preparing ...</td>\n",
              "      <td>Active Listening</td>\n",
              "      <td>skillDescription</td>\n",
              "    </tr>\n",
              "    <tr>\n",
              "      <th>4</th>\n",
              "      <td>Writing is a medium of human communication tha...</td>\n",
              "      <td>Writing</td>\n",
              "      <td>skillDescription</td>\n",
              "    </tr>\n",
              "    <tr>\n",
              "      <th>6</th>\n",
              "      <td>In sociolinguistics, SPEAKING or the SPEAKING ...</td>\n",
              "      <td>Speaking</td>\n",
              "      <td>skillDescription</td>\n",
              "    </tr>\n",
              "    <tr>\n",
              "      <th>8</th>\n",
              "      <td>Mathematics (from Greek: μάθημα, máthēma, 'kno...</td>\n",
              "      <td>Mathematics</td>\n",
              "      <td>skillDescription</td>\n",
              "    </tr>\n",
              "    <tr>\n",
              "      <th>...</th>\n",
              "      <td>...</td>\n",
              "      <td>...</td>\n",
              "      <td>...</td>\n",
              "    </tr>\n",
              "    <tr>\n",
              "      <th>27547</th>\n",
              "      <td>A free and open-source graphics device driver ...</td>\n",
              "      <td>Graphics card driver software</td>\n",
              "      <td>skillDescription</td>\n",
              "    </tr>\n",
              "    <tr>\n",
              "      <th>27585</th>\n",
              "      <td>In computers, a printer driver or a print proc...</td>\n",
              "      <td>Printer driver software</td>\n",
              "      <td>skillDescription</td>\n",
              "    </tr>\n",
              "    <tr>\n",
              "      <th>29614</th>\n",
              "      <td>Computer-aided manufacturing (CAM) also known ...</td>\n",
              "      <td>Computer aided design CAD and computer aided m...</td>\n",
              "      <td>skillDescription</td>\n",
              "    </tr>\n",
              "    <tr>\n",
              "      <th>29629</th>\n",
              "      <td>Software asset management  (SAM) is a business...</td>\n",
              "      <td>Procedure management software</td>\n",
              "      <td>skillDescription</td>\n",
              "    </tr>\n",
              "    <tr>\n",
              "      <th>31094</th>\n",
              "      <td>Speech synthesis is the artificial production ...</td>\n",
              "      <td>Voice synthesizer and recognition software</td>\n",
              "      <td>skillDescription</td>\n",
              "    </tr>\n",
              "  </tbody>\n",
              "</table>\n",
              "<p>170 rows × 3 columns</p>\n",
              "</div>"
            ],
            "text/plain": [
              "                                                   title  ...            source\n",
              "0      Reading comprehension is the ability to proces...  ...  skillDescription\n",
              "2      Active listening is the practice of preparing ...  ...  skillDescription\n",
              "4      Writing is a medium of human communication tha...  ...  skillDescription\n",
              "6      In sociolinguistics, SPEAKING or the SPEAKING ...  ...  skillDescription\n",
              "8      Mathematics (from Greek: μάθημα, máthēma, 'kno...  ...  skillDescription\n",
              "...                                                  ...  ...               ...\n",
              "27547  A free and open-source graphics device driver ...  ...  skillDescription\n",
              "27585  In computers, a printer driver or a print proc...  ...  skillDescription\n",
              "29614  Computer-aided manufacturing (CAM) also known ...  ...  skillDescription\n",
              "29629  Software asset management  (SAM) is a business...  ...  skillDescription\n",
              "31094  Speech synthesis is the artificial production ...  ...  skillDescription\n",
              "\n",
              "[170 rows x 3 columns]"
            ]
          },
          "metadata": {},
          "execution_count": 13
        }
      ]
    },
    {
      "cell_type": "code",
      "metadata": {
        "id": "G4hSXGMThZro"
      },
      "source": [
        "df.to_csv('Skill Description.csv')"
      ],
      "execution_count": null,
      "outputs": []
    }
  ]
}